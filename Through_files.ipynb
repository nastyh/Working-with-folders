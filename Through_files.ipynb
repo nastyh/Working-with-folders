{
 "cells": [
  {
   "cell_type": "code",
   "execution_count": 4,
   "metadata": {},
   "outputs": [],
   "source": [
    "import os\n",
    "import pandas as pd\n",
    "import numpy as np\n",
    "# import time\n",
    "from datetime import datetime\n",
    "\n",
    "def through_files(origin, destination):\n",
    "    res = []\n",
    "    shpfiles = []\n",
    "    \n",
    "    for root, dirs, files in os.walk(origin, topdown=True):\n",
    "        if len(files) > 0:\n",
    "            res.extend(zip([root]*len(files), files)) # pairs of address-file\n",
    "        for x in files:\n",
    "            shpfiles.append(root+\"\\\\\"+x)  # full paths saved in the list\n",
    "            \n",
    "    sizes = []\n",
    "    accessedTimes = []\n",
    "    modificationTimes = []\n",
    "    metadataTimes = []\n",
    "    for f in shpfiles:\n",
    "        statinfo1 = os.stat(f)\n",
    "        sizes.append(statinfo1.st_size)\n",
    "        accessedTimes.append(datetime.utcfromtimestamp(statinfo1.st_atime).strftime('%Y-%m-%d %H:%M:%S'))\n",
    "        modificationTimes.append(datetime.utcfromtimestamp(statinfo1.st_mtime).strftime('%Y-%m-%d %H:%M:%S'))  \n",
    "        metadataTimes.append(datetime.utcfromtimestamp(statinfo1.st_ctime).strftime('%Y-%m-%d %H:%M:%S'))\n",
    "    \n",
    "    #Putting together a dataframe\n",
    "    df = pd.DataFrame(res, columns=['Path', 'File_Name'])\n",
    "    df['Full Path'] = df.Path.astype(str).str.cat(df.File_Name.astype(str), sep='\\\\')\n",
    "    df['Size, in bytes']=sizes\n",
    "    df['Last Accessed at'] = accessedTimes\n",
    "    df['Last Modified at'] = modificationTimes\n",
    "    df['Last Metadata change at'] = metadataTimes\n",
    "    \n",
    "    #Writing in a .csv file\n",
    "    df.to_csv(destination, index=False)"
   ]
  },
  {
   "cell_type": "code",
   "execution_count": 5,
   "metadata": {},
   "outputs": [],
   "source": [
    "through_files(r'C:\\Users\\us61565\\Desktop\\Internal',r'C:\\Users\\us61565\\Desktop\\Internal\\int_test.csv')"
   ]
  }
 ],
 "metadata": {
  "kernelspec": {
   "display_name": "Python 3",
   "language": "python",
   "name": "python3"
  },
  "language_info": {
   "codemirror_mode": {
    "name": "ipython",
    "version": 3
   },
   "file_extension": ".py",
   "mimetype": "text/x-python",
   "name": "python",
   "nbconvert_exporter": "python",
   "pygments_lexer": "ipython3",
   "version": "3.7.1"
  }
 },
 "nbformat": 4,
 "nbformat_minor": 2
}
