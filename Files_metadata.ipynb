{
 "cells": [
  {
   "cell_type": "code",
   "execution_count": 1,
   "metadata": {},
   "outputs": [],
   "source": [
    "import os\n",
    "import pandas as pd\n",
    "import numpy as np"
   ]
  },
  {
   "cell_type": "code",
   "execution_count": 2,
   "metadata": {},
   "outputs": [
    {
     "name": "stdout",
     "output_type": "stream",
     "text": [
      "C:/Program Files (x86)/RSA SecurID Token Common\\APACHE_LICENSE.txt\n",
      "C:/Program Files (x86)/RSA SecurID Token Common\\log4cxx.dll\n",
      "C:/Program Files (x86)/RSA SecurID Token Common\\QtCore4.dll\n",
      "C:/Program Files (x86)/RSA SecurID Token Common\\QtGui4.dll\n",
      "C:/Program Files (x86)/RSA SecurID Token Common\\RegisterRtpDll.dll\n",
      "C:/Program Files (x86)/RSA SecurID Token Common\\RSAClientLogger.dll\n"
     ]
    }
   ],
   "source": [
    "def pywalker(path):\n",
    "    for root, dirs, files in os.walk(path):\n",
    "        for file_ in files:\n",
    "            print(os.path.join(root, file_))\n",
    " \n",
    "if __name__ == '__main__':\n",
    "    pywalker('C:/Program Files (x86)/RSA SecurID Token Common')"
   ]
  },
  {
   "cell_type": "code",
   "execution_count": 3,
   "metadata": {},
   "outputs": [
    {
     "data": {
      "text/plain": [
       "['APACHE_LICENSE.txt',\n",
       " 'log4cxx.dll',\n",
       " 'QtCore4.dll',\n",
       " 'QtGui4.dll',\n",
       " 'RegisterRtpDll.dll',\n",
       " 'RSAClientLogger.dll']"
      ]
     },
     "execution_count": 3,
     "metadata": {},
     "output_type": "execute_result"
    }
   ],
   "source": [
    "# returns files' names in a list\n",
    "os.listdir('C:/Program Files (x86)/RSA SecurID Token Common')"
   ]
  },
  {
   "cell_type": "code",
   "execution_count": 4,
   "metadata": {},
   "outputs": [],
   "source": [
    "# List all files in a directory using os.listdir\n",
    "def all_in_directory(target):\n",
    "    # basepath = 'my_directory/'\n",
    "    for entry in os.listdir(target):\n",
    "        if os.path.isfile(os.path.join(target, entry)):\n",
    "            print(entry)"
   ]
  },
  {
   "cell_type": "code",
   "execution_count": 5,
   "metadata": {},
   "outputs": [
    {
     "name": "stdout",
     "output_type": "stream",
     "text": [
      "APACHE_LICENSE.txt\n",
      "log4cxx.dll\n",
      "QtCore4.dll\n",
      "QtGui4.dll\n",
      "RegisterRtpDll.dll\n",
      "RSAClientLogger.dll\n"
     ]
    }
   ],
   "source": [
    "all_in_directory('C:/Program Files (x86)/RSA SecurID Token Common')"
   ]
  },
  {
   "cell_type": "code",
   "execution_count": 6,
   "metadata": {},
   "outputs": [],
   "source": [
    "def all_in_directory_1(target):\n",
    "    for root, dirs, files in os.walk(target, topdown=False):\n",
    "        for name in files:\n",
    "            print(os.path.join(root, name))\n",
    "        for name in dirs:\n",
    "            print(os.path.join(root, name))"
   ]
  },
  {
   "cell_type": "code",
   "execution_count": 7,
   "metadata": {},
   "outputs": [
    {
     "name": "stdout",
     "output_type": "stream",
     "text": [
      "C:/Program Files (x86)/RSA SecurID Token Common\\APACHE_LICENSE.txt\n",
      "C:/Program Files (x86)/RSA SecurID Token Common\\log4cxx.dll\n",
      "C:/Program Files (x86)/RSA SecurID Token Common\\QtCore4.dll\n",
      "C:/Program Files (x86)/RSA SecurID Token Common\\QtGui4.dll\n",
      "C:/Program Files (x86)/RSA SecurID Token Common\\RegisterRtpDll.dll\n",
      "C:/Program Files (x86)/RSA SecurID Token Common\\RSAClientLogger.dll\n"
     ]
    }
   ],
   "source": [
    "all_in_directory_1('C:/Program Files (x86)/RSA SecurID Token Common')"
   ]
  },
  {
   "cell_type": "code",
   "execution_count": 8,
   "metadata": {},
   "outputs": [
    {
     "name": "stdout",
     "output_type": "stream",
     "text": [
      "C:/Program Files (x86)\n",
      "RSA SecurID Token Common\n",
      "RSA SecurID Token Common\n"
     ]
    }
   ],
   "source": [
    "head, tail = os.path.split('C:/Program Files (x86)/RSA SecurID Token Common')\n",
    "print(head)\n",
    "print(tail)\n",
    "\n",
    "print(os.path.basename('C:/Program Files (x86)/RSA SecurID Token Common'))"
   ]
  },
  {
   "cell_type": "code",
   "execution_count": 9,
   "metadata": {},
   "outputs": [
    {
     "name": "stdout",
     "output_type": "stream",
     "text": [
      "                    Folder                    File\n",
      "0            Uninstall.exe           Uninstall.exe\n",
      "1            Uninstall.exe                    logs\n",
      "2            Uninstall.exe  maintenanceservice.exe\n",
      "3            Uninstall.exe                  update\n",
      "4            Uninstall.exe             updater.ini\n",
      "5                     logs           Uninstall.exe\n",
      "6                     logs                    logs\n",
      "7                     logs  maintenanceservice.exe\n",
      "8                     logs                  update\n",
      "9                     logs             updater.ini\n",
      "10  maintenanceservice.exe           Uninstall.exe\n",
      "11  maintenanceservice.exe                    logs\n",
      "12  maintenanceservice.exe  maintenanceservice.exe\n",
      "13  maintenanceservice.exe                  update\n",
      "14  maintenanceservice.exe             updater.ini\n",
      "15                  update           Uninstall.exe\n",
      "16                  update                    logs\n",
      "17                  update  maintenanceservice.exe\n",
      "18                  update                  update\n",
      "19                  update             updater.ini\n",
      "20             updater.ini           Uninstall.exe\n",
      "21             updater.ini                    logs\n",
      "22             updater.ini  maintenanceservice.exe\n",
      "23             updater.ini                  update\n",
      "24             updater.ini             updater.ini\n"
     ]
    }
   ],
   "source": [
    "data = []\n",
    "for folder in sorted(os.listdir(r'C:\\Program Files (x86)\\Mozilla Maintenance Service')):\n",
    "    for file in sorted(os.listdir(r'C:\\Program Files (x86)\\Mozilla Maintenance Service')):\n",
    "        data.append((folder, file))\n",
    "\n",
    "df = pd.DataFrame(data, columns=['Folder', 'File'])\n",
    "print (df)"
   ]
  },
  {
   "cell_type": "code",
   "execution_count": 10,
   "metadata": {},
   "outputs": [
    {
     "name": "stdout",
     "output_type": "stream",
     "text": [
      "[]\n"
     ]
    }
   ],
   "source": [
    "res = os.walk(r'C:\\Program Files (x86)\\Mozilla Maintenance Service')\n",
    "data1, data2, data3 = [], [], []\n",
    "for root in res:\n",
    "    data1.append(root)\n",
    "for dirs in res:\n",
    "    data2.append(dirs)\n",
    "for files in res:\n",
    "    data3.append(files)\n",
    "\n",
    "print(data3)\n",
    "# df = pd.DataFrame(np.column_stack([data1, data2, data3]),\n",
    "#                   columns = ['Root','Dirs','Filename'])\n",
    "# df = pd.DataFrame(list(zip(data1, data2, data3)))\n",
    "# print(df)"
   ]
  },
  {
   "cell_type": "code",
   "execution_count": 11,
   "metadata": {},
   "outputs": [
    {
     "name": "stdout",
     "output_type": "stream",
     "text": [
      "                                                                         File_Name\n",
      "Path                                                                              \n",
      "C:\\Program Files (x86)\\Mozilla Maintenance Service          maintenanceservice.exe\n",
      "C:\\Program Files (x86)\\Mozilla Maintenance Service                   Uninstall.exe\n",
      "C:\\Program Files (x86)\\Mozilla Maintenance Service                     updater.ini\n",
      "C:\\Program Files (x86)\\Mozilla Maintenance Serv...        maintenanceservice-1.log\n",
      "C:\\Program Files (x86)\\Mozilla Maintenance Serv...       maintenanceservice-10.log\n",
      "C:\\Program Files (x86)\\Mozilla Maintenance Serv...        maintenanceservice-2.log\n",
      "C:\\Program Files (x86)\\Mozilla Maintenance Serv...        maintenanceservice-3.log\n",
      "C:\\Program Files (x86)\\Mozilla Maintenance Serv...        maintenanceservice-4.log\n",
      "C:\\Program Files (x86)\\Mozilla Maintenance Serv...        maintenanceservice-5.log\n",
      "C:\\Program Files (x86)\\Mozilla Maintenance Serv...        maintenanceservice-6.log\n",
      "C:\\Program Files (x86)\\Mozilla Maintenance Serv...        maintenanceservice-7.log\n",
      "C:\\Program Files (x86)\\Mozilla Maintenance Serv...        maintenanceservice-8.log\n",
      "C:\\Program Files (x86)\\Mozilla Maintenance Serv...        maintenanceservice-9.log\n",
      "C:\\Program Files (x86)\\Mozilla Maintenance Serv...  maintenanceservice-install.log\n",
      "C:\\Program Files (x86)\\Mozilla Maintenance Serv...          maintenanceservice.log\n"
     ]
    }
   ],
   "source": [
    "res = []\n",
    "for root, dirs, files in os.walk(r'C:\\Program Files (x86)\\Mozilla Maintenance Service', topdown=True):\n",
    "    if len(files) > 0:\n",
    "        res.extend(list(zip([root]*len(files), files)))\n",
    "\n",
    "df = pd.DataFrame(res, columns=['Path', 'File_Name']).set_index('Path')\n",
    "print(df)"
   ]
  },
  {
   "cell_type": "code",
   "execution_count": 12,
   "metadata": {},
   "outputs": [],
   "source": [
    "# Full location, name, extension \n",
    "res = []\n",
    "for root, dirs, files in os.walk(r'C:\\Users\\us61565\\Desktop\\Internal\\Books', topdown=True):\n",
    "    if len(files) > 0:\n",
    "        res.extend(list(zip([root]*len(files), files)))\n",
    "\n",
    "df = pd.DataFrame(res, columns=['Path', 'File_Name']).set_index('Path')\n",
    "\n",
    "df['Extention'] = df['File_Name'].str[-3:]\n",
    "# print(df)\n",
    "# df['DATE'] = df['DATE'].astype(str).str[:-2].astype(np.int64)\n",
    "# df.tail()\n",
    "# df.to_csv(r'C:\\Users\\us61565\\Desktop\\Forensics\\Working-with-folders\\test.csv')"
   ]
  },
  {
   "cell_type": "markdown",
   "metadata": {},
   "source": [
    "### Getting files' attributes"
   ]
  },
  {
   "cell_type": "code",
   "execution_count": 43,
   "metadata": {},
   "outputs": [
    {
     "name": "stdout",
     "output_type": "stream",
     "text": [
      "File size is 11788 bytes\n",
      "Last accessed at 1563659209.344854\n",
      "Last modified at 1563659208.2798781\n",
      "File size is 11788 bytes\n",
      "Last accessed at 2019-07-20 21:46:49\n",
      "Last modified at 2019-07-20 21:46:48\n"
     ]
    }
   ],
   "source": [
    "# when it was created, last modified, last read\n",
    "import os, sys, datetime\n",
    "from datetime import datetime\n",
    "\n",
    "statinfo = os.stat(r'C:\\Users\\us61565\\Desktop\\Forensics\\Working-with-folders\\Files_metadata.ipynb')\n",
    "# print(statinfo.st_size)\n",
    "print(\"File size is {} bytes\\nLast accessed at {}\\nLast modified at {}\".format(statinfo.st_size, statinfo.st_atime, statinfo.st_mtime))\n",
    "print(\"File size is {} bytes\\nLast accessed at {}\\nLast modified at {}\".format(statinfo.st_size, datetime.utcfromtimestamp(statinfo.st_atime).strftime('%Y-%m-%d %H:%M:%S'), datetime.utcfromtimestamp(statinfo.st_mtime).strftime('%Y-%m-%d %H:%M:%S')))"
   ]
  },
  {
   "cell_type": "code",
   "execution_count": 41,
   "metadata": {},
   "outputs": [
    {
     "name": "stdout",
     "output_type": "stream",
     "text": [
      "2019-07-20 21:41:05\n"
     ]
    }
   ],
   "source": [
    "# datetime.datetime.fromtimestamp(statinfo.st_atime)\n",
    "from datetime import datetime\n",
    "print(datetime.utcfromtimestamp(statinfo.st_atime).strftime('%Y-%m-%d %H:%M:%S'))"
   ]
  }
 ],
 "metadata": {
  "kernelspec": {
   "display_name": "Python 3",
   "language": "python",
   "name": "python3"
  },
  "language_info": {
   "codemirror_mode": {
    "name": "ipython",
    "version": 3
   },
   "file_extension": ".py",
   "mimetype": "text/x-python",
   "name": "python",
   "nbconvert_exporter": "python",
   "pygments_lexer": "ipython3",
   "version": "3.7.1"
  }
 },
 "nbformat": 4,
 "nbformat_minor": 2
}
