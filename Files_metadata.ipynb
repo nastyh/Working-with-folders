{
 "cells": [
  {
   "cell_type": "code",
   "execution_count": 1,
   "metadata": {},
   "outputs": [],
   "source": [
    "import os\n",
    "import pandas as pd\n",
    "import numpy as np"
   ]
  },
  {
   "cell_type": "code",
   "execution_count": 2,
   "metadata": {},
   "outputs": [
    {
     "name": "stdout",
     "output_type": "stream",
     "text": [
      "C:/Program Files (x86)/RSA SecurID Token Common\\APACHE_LICENSE.txt\n",
      "C:/Program Files (x86)/RSA SecurID Token Common\\log4cxx.dll\n",
      "C:/Program Files (x86)/RSA SecurID Token Common\\QtCore4.dll\n",
      "C:/Program Files (x86)/RSA SecurID Token Common\\QtGui4.dll\n",
      "C:/Program Files (x86)/RSA SecurID Token Common\\RegisterRtpDll.dll\n",
      "C:/Program Files (x86)/RSA SecurID Token Common\\RSAClientLogger.dll\n"
     ]
    }
   ],
   "source": [
    "def pywalker(path):\n",
    "    for root, dirs, files in os.walk(path):\n",
    "        for file_ in files:\n",
    "            print(os.path.join(root, file_))\n",
    " \n",
    "if __name__ == '__main__':\n",
    "    pywalker('C:/Program Files (x86)/RSA SecurID Token Common')"
   ]
  },
  {
   "cell_type": "code",
   "execution_count": 3,
   "metadata": {},
   "outputs": [
    {
     "data": {
      "text/plain": [
       "['APACHE_LICENSE.txt',\n",
       " 'log4cxx.dll',\n",
       " 'QtCore4.dll',\n",
       " 'QtGui4.dll',\n",
       " 'RegisterRtpDll.dll',\n",
       " 'RSAClientLogger.dll']"
      ]
     },
     "execution_count": 3,
     "metadata": {},
     "output_type": "execute_result"
    }
   ],
   "source": [
    "# returns files' names in a list\n",
    "os.listdir('C:/Program Files (x86)/RSA SecurID Token Common')"
   ]
  },
  {
   "cell_type": "code",
   "execution_count": 4,
   "metadata": {},
   "outputs": [],
   "source": [
    "# List all files in a directory using os.listdir\n",
    "def all_in_directory(target):\n",
    "    # basepath = 'my_directory/'\n",
    "    for entry in os.listdir(target):\n",
    "        if os.path.isfile(os.path.join(target, entry)):\n",
    "            print(entry)"
   ]
  },
  {
   "cell_type": "code",
   "execution_count": 5,
   "metadata": {},
   "outputs": [
    {
     "name": "stdout",
     "output_type": "stream",
     "text": [
      "APACHE_LICENSE.txt\n",
      "log4cxx.dll\n",
      "QtCore4.dll\n",
      "QtGui4.dll\n",
      "RegisterRtpDll.dll\n",
      "RSAClientLogger.dll\n"
     ]
    }
   ],
   "source": [
    "all_in_directory('C:/Program Files (x86)/RSA SecurID Token Common')"
   ]
  },
  {
   "cell_type": "code",
   "execution_count": 6,
   "metadata": {},
   "outputs": [],
   "source": [
    "def all_in_directory_1(target):\n",
    "    for root, dirs, files in os.walk(target, topdown=False):\n",
    "        for name in files:\n",
    "            print(os.path.join(root, name))\n",
    "        for name in dirs:\n",
    "            print(os.path.join(root, name))"
   ]
  },
  {
   "cell_type": "code",
   "execution_count": 7,
   "metadata": {},
   "outputs": [
    {
     "name": "stdout",
     "output_type": "stream",
     "text": [
      "C:/Program Files (x86)/RSA SecurID Token Common\\APACHE_LICENSE.txt\n",
      "C:/Program Files (x86)/RSA SecurID Token Common\\log4cxx.dll\n",
      "C:/Program Files (x86)/RSA SecurID Token Common\\QtCore4.dll\n",
      "C:/Program Files (x86)/RSA SecurID Token Common\\QtGui4.dll\n",
      "C:/Program Files (x86)/RSA SecurID Token Common\\RegisterRtpDll.dll\n",
      "C:/Program Files (x86)/RSA SecurID Token Common\\RSAClientLogger.dll\n"
     ]
    }
   ],
   "source": [
    "all_in_directory_1('C:/Program Files (x86)/RSA SecurID Token Common')"
   ]
  },
  {
   "cell_type": "code",
   "execution_count": 8,
   "metadata": {},
   "outputs": [
    {
     "name": "stdout",
     "output_type": "stream",
     "text": [
      "C:/Program Files (x86)\n",
      "RSA SecurID Token Common\n",
      "RSA SecurID Token Common\n"
     ]
    }
   ],
   "source": [
    "head, tail = os.path.split('C:/Program Files (x86)/RSA SecurID Token Common')\n",
    "print(head)\n",
    "print(tail)\n",
    "\n",
    "print(os.path.basename('C:/Program Files (x86)/RSA SecurID Token Common'))"
   ]
  },
  {
   "cell_type": "code",
   "execution_count": 9,
   "metadata": {},
   "outputs": [
    {
     "name": "stdout",
     "output_type": "stream",
     "text": [
      "                    Folder                    File\n",
      "0            Uninstall.exe           Uninstall.exe\n",
      "1            Uninstall.exe                    logs\n",
      "2            Uninstall.exe  maintenanceservice.exe\n",
      "3            Uninstall.exe                  update\n",
      "4            Uninstall.exe             updater.ini\n",
      "5                     logs           Uninstall.exe\n",
      "6                     logs                    logs\n",
      "7                     logs  maintenanceservice.exe\n",
      "8                     logs                  update\n",
      "9                     logs             updater.ini\n",
      "10  maintenanceservice.exe           Uninstall.exe\n",
      "11  maintenanceservice.exe                    logs\n",
      "12  maintenanceservice.exe  maintenanceservice.exe\n",
      "13  maintenanceservice.exe                  update\n",
      "14  maintenanceservice.exe             updater.ini\n",
      "15                  update           Uninstall.exe\n",
      "16                  update                    logs\n",
      "17                  update  maintenanceservice.exe\n",
      "18                  update                  update\n",
      "19                  update             updater.ini\n",
      "20             updater.ini           Uninstall.exe\n",
      "21             updater.ini                    logs\n",
      "22             updater.ini  maintenanceservice.exe\n",
      "23             updater.ini                  update\n",
      "24             updater.ini             updater.ini\n"
     ]
    }
   ],
   "source": [
    "data = []\n",
    "for folder in sorted(os.listdir(r'C:\\Program Files (x86)\\Mozilla Maintenance Service')):\n",
    "    for file in sorted(os.listdir(r'C:\\Program Files (x86)\\Mozilla Maintenance Service')):\n",
    "        data.append((folder, file))\n",
    "\n",
    "df = pd.DataFrame(data, columns=['Folder', 'File'])\n",
    "print (df)"
   ]
  },
  {
   "cell_type": "code",
   "execution_count": 10,
   "metadata": {},
   "outputs": [
    {
     "name": "stdout",
     "output_type": "stream",
     "text": [
      "[]\n"
     ]
    }
   ],
   "source": [
    "res = os.walk(r'C:\\Program Files (x86)\\Mozilla Maintenance Service')\n",
    "data1, data2, data3 = [], [], []\n",
    "for root in res:\n",
    "    data1.append(root)\n",
    "for dirs in res:\n",
    "    data2.append(dirs)\n",
    "for files in res:\n",
    "    data3.append(files)\n",
    "\n",
    "print(data3)\n",
    "# df = pd.DataFrame(np.column_stack([data1, data2, data3]),\n",
    "#                   columns = ['Root','Dirs','Filename'])\n",
    "# df = pd.DataFrame(list(zip(data1, data2, data3)))\n",
    "# print(df)"
   ]
  },
  {
   "cell_type": "code",
   "execution_count": 11,
   "metadata": {},
   "outputs": [
    {
     "name": "stdout",
     "output_type": "stream",
     "text": [
      "                                                                         File_Name\n",
      "Path                                                                              \n",
      "C:\\Program Files (x86)\\Mozilla Maintenance Service          maintenanceservice.exe\n",
      "C:\\Program Files (x86)\\Mozilla Maintenance Service                   Uninstall.exe\n",
      "C:\\Program Files (x86)\\Mozilla Maintenance Service                     updater.ini\n",
      "C:\\Program Files (x86)\\Mozilla Maintenance Serv...        maintenanceservice-1.log\n",
      "C:\\Program Files (x86)\\Mozilla Maintenance Serv...       maintenanceservice-10.log\n",
      "C:\\Program Files (x86)\\Mozilla Maintenance Serv...        maintenanceservice-2.log\n",
      "C:\\Program Files (x86)\\Mozilla Maintenance Serv...        maintenanceservice-3.log\n",
      "C:\\Program Files (x86)\\Mozilla Maintenance Serv...        maintenanceservice-4.log\n",
      "C:\\Program Files (x86)\\Mozilla Maintenance Serv...        maintenanceservice-5.log\n",
      "C:\\Program Files (x86)\\Mozilla Maintenance Serv...        maintenanceservice-6.log\n",
      "C:\\Program Files (x86)\\Mozilla Maintenance Serv...        maintenanceservice-7.log\n",
      "C:\\Program Files (x86)\\Mozilla Maintenance Serv...        maintenanceservice-8.log\n",
      "C:\\Program Files (x86)\\Mozilla Maintenance Serv...        maintenanceservice-9.log\n",
      "C:\\Program Files (x86)\\Mozilla Maintenance Serv...  maintenanceservice-install.log\n",
      "C:\\Program Files (x86)\\Mozilla Maintenance Serv...          maintenanceservice.log\n"
     ]
    }
   ],
   "source": [
    "res = []\n",
    "for root, dirs, files in os.walk(r'C:\\Program Files (x86)\\Mozilla Maintenance Service', topdown=True):\n",
    "    if len(files) > 0:\n",
    "        res.extend(list(zip([root]*len(files), files)))\n",
    "\n",
    "df = pd.DataFrame(res, columns=['Path', 'File_Name']).set_index('Path')\n",
    "print(df)"
   ]
  },
  {
   "cell_type": "code",
   "execution_count": 12,
   "metadata": {},
   "outputs": [],
   "source": [
    "# Full location, name, extension \n",
    "res = []\n",
    "for root, dirs, files in os.walk(r'C:\\Users\\us61565\\Desktop\\Internal\\Books', topdown=True):\n",
    "    if len(files) > 0:\n",
    "        res.extend(list(zip([root]*len(files), files)))\n",
    "\n",
    "df = pd.DataFrame(res, columns=['Path', 'File_Name']).set_index('Path')\n",
    "\n",
    "df['Extention'] = df['File_Name'].str[-3:]\n",
    "# print(df)\n",
    "# df['DATE'] = df['DATE'].astype(str).str[:-2].astype(np.int64)\n",
    "# df.tail()\n",
    "# df.to_csv(r'C:\\Users\\us61565\\Desktop\\Forensics\\Working-with-folders\\test.csv')"
   ]
  },
  {
   "cell_type": "markdown",
   "metadata": {},
   "source": [
    "### Getting files' attributes"
<<<<<<< Updated upstream
   ]
  },
  {
   "cell_type": "code",
   "execution_count": 13,
   "metadata": {},
   "outputs": [
    {
     "name": "stdout",
     "output_type": "stream",
     "text": [
      "File size is 23621 bytes\n",
      "Last accessed at 1563885952.7485843\n",
      "Last modified at 1563885952.7485843\n",
      "File size is 23621 bytes\n",
      "Last accessed at 2019-07-23 12:45:52\n",
      "Last modified at 2019-07-23 12:45:52\n"
     ]
    }
   ],
   "source": [
    "# when it was created, last modified, last read\n",
    "import os, sys, datetime\n",
    "from datetime import datetime\n",
    "\n",
    "statinfo = os.stat(r'C:\\Users\\us61565\\Desktop\\Forensics\\Working-with-folders\\Files_metadata.ipynb')\n",
    "# print(statinfo.st_size)\n",
    "print(\"File size is {} bytes\\nLast accessed at {}\\nLast modified at {}\".format(statinfo.st_size, statinfo.st_atime, statinfo.st_mtime))\n",
    "print(\"File size is {} bytes\\nLast accessed at {}\\nLast modified at {}\".format(statinfo.st_size, datetime.utcfromtimestamp(statinfo.st_atime).strftime('%Y-%m-%d %H:%M:%S'), datetime.utcfromtimestamp(statinfo.st_mtime).strftime('%Y-%m-%d %H:%M:%S')))"
   ]
  },
  {
   "cell_type": "code",
   "execution_count": 14,
   "metadata": {},
   "outputs": [
    {
     "name": "stdout",
     "output_type": "stream",
     "text": [
      "2019-07-23 12:45:52\n"
     ]
    }
   ],
   "source": [
    "# datetime.datetime.fromtimestamp(statinfo.st_atime)\n",
    "from datetime import datetime\n",
    "print(datetime.utcfromtimestamp(statinfo.st_atime).strftime('%Y-%m-%d %H:%M:%S'))"
   ]
  },
  {
   "cell_type": "markdown",
   "metadata": {},
   "source": [
    "### combining two things together"
   ]
  },
  {
   "cell_type": "code",
   "execution_count": 78,
   "metadata": {},
   "outputs": [],
   "source": [
    "res = []\n",
    "for root, dirs, files in os.walk(r'C:\\Program Files (x86)\\Mozilla Maintenance Service', topdown=True):\n",
    "    if len(files) > 0:\n",
    "        res.extend(zip([root]*len(files), files))\n",
    "\n",
    "# df = pd.DataFrame(res, columns=['Path', 'File_Name']).set_index('Path')\n",
    "df = pd.DataFrame(res, columns=['Path', 'File_Name'])\n",
    "df['Full'] = df.Path.astype(str).str.cat(df.File_Name.astype(str), sep='\\\\')\n",
    "# res1 = []\n",
    "# for x in df['Full']:\n",
    "#     statinfo1 = os.stat(x)\n",
    "#     print(\"File size is {} bytes\\nLast accessed at {}\\nLast modified at {}\".format(statinfo1.st_size, datetime.utcfromtimestamp(statinfo1.st_atime).strftime('%Y-%m-%d %H:%M:%S'), datetime.utcfromtimestamp(statinfo1.st_mtime).strftime('%Y-%m-%d %H:%M:%S')))\n",
    "#     res1.extend(list(zip(statinfo1.st_size,datetime.utcfromtimestamp(statinfo1.st_atime).strftime('%Y-%m-%d %H:%M:%S'),\n",
    "#                         datetime.utcfromtimestamp(statinfo1.st_mtime).strftime('%Y-%m-%d %H:%M:%S'))))\n",
    "#     stat_dict = {'size': statinfo1.st_size,\n",
    "#                  'accessed': datetime.utcfromtimestamp(statinfo1.st_atime).strftime('%Y-%m-%d %H:%M:%S'),\n",
    "#                  'modified': datetime.utcfromtimestamp(statinfo1.st_mtime).strftime('%Y-%m-%d %H:%M:%S')}"
   ]
  },
  {
   "cell_type": "code",
   "execution_count": 93,
   "metadata": {},
   "outputs": [],
   "source": [
    "shpfiles = []\n",
    "for root, dirs, files in os.walk(r'C:\\Program Files (x86)\\Mozilla Maintenance Service', topdown=True):\n",
    "    for x in files:\n",
    "        shpfiles.append(root+\"\\\\\"+x)"
   ]
  },
  {
   "cell_type": "code",
   "execution_count": null,
   "metadata": {},
   "outputs": [],
   "source": [
    "print(shpfiles)"
   ]
  },
  {
   "cell_type": "code",
   "execution_count": 103,
   "metadata": {},
   "outputs": [],
   "source": [
    "sizes = []\n",
    "accessedTimes = []\n",
    "modificationTimes = []\n",
    "for f in shpfiles:\n",
    "    statinfo1 = os.stat(f)\n",
    "    sizes.append(statinfo1.st_size)\n",
    "    accessedTimes.append(datetime.utcfromtimestamp(statinfo1.st_atime).strftime('%Y-%m-%d %H:%M:%S'))\n",
    "    modificationTimes.append(datetime.utcfromtimestamp(statinfo1.st_mtime).strftime('%Y-%m-%d %H:%M:%S'))"
   ]
  },
  {
   "cell_type": "code",
   "execution_count": 107,
   "metadata": {},
   "outputs": [
    {
     "name": "stdout",
     "output_type": "stream",
     "text": [
      "['2019-07-11 16:56:51', '2019-03-18 16:01:07', '2019-02-25 16:48:28', '2019-07-16 14:14:30', '2019-05-08 15:12:30', '2019-07-11 16:56:52', '2019-06-26 18:11:06', '2019-06-19 12:00:05', '2019-06-18 12:10:22', '2019-06-18 10:56:12', '2019-06-04 18:42:02', '2019-05-31 12:28:36', '2019-05-10 14:23:37', '2019-07-16 14:14:30', '2019-07-16 14:23:16']\n"
     ]
    }
   ],
   "source": [
    "print(sizes)\n",
    "print(accessedTimes)\n",
    "print(modificationTimes)"
   ]
  },
  {
   "cell_type": "code",
   "execution_count": 111,
   "metadata": {},
   "outputs": [],
   "source": [
    "df['Size, in bytes']=sizes\n",
    "df['Last Accessed at'] = accessedTimes\n",
    "df['Last Modified at'] = modificationTimes"
   ]
  },
  {
   "cell_type": "code",
   "execution_count": 120,
   "metadata": {},
   "outputs": [],
   "source": [
    "df.drop(columns=['Size'], axis = 1, inplace = True)"
   ]
  },
  {
   "cell_type": "code",
   "execution_count": 121,
   "metadata": {},
   "outputs": [
    {
     "data": {
      "text/html": [
       "<div>\n",
       "<style scoped>\n",
       "    .dataframe tbody tr th:only-of-type {\n",
       "        vertical-align: middle;\n",
       "    }\n",
       "\n",
       "    .dataframe tbody tr th {\n",
       "        vertical-align: top;\n",
       "    }\n",
       "\n",
       "    .dataframe thead th {\n",
       "        text-align: right;\n",
       "    }\n",
       "</style>\n",
       "<table border=\"1\" class=\"dataframe\">\n",
       "  <thead>\n",
       "    <tr style=\"text-align: right;\">\n",
       "      <th></th>\n",
       "      <th>Path</th>\n",
       "      <th>File_Name</th>\n",
       "      <th>Full</th>\n",
       "      <th>Last Accessed at</th>\n",
       "      <th>Last Modified at</th>\n",
       "      <th>Size, in bytes</th>\n",
       "    </tr>\n",
       "  </thead>\n",
       "  <tbody>\n",
       "    <tr>\n",
       "      <th>0</th>\n",
       "      <td>C:\\Program Files (x86)\\Mozilla Maintenance Ser...</td>\n",
       "      <td>maintenanceservice.exe</td>\n",
       "      <td>C:\\Program Files (x86)\\Mozilla Maintenance Ser...</td>\n",
       "      <td>2019-07-23 14:06:42</td>\n",
       "      <td>2019-07-11 16:56:51</td>\n",
       "      <td>238624</td>\n",
       "    </tr>\n",
       "    <tr>\n",
       "      <th>1</th>\n",
       "      <td>C:\\Program Files (x86)\\Mozilla Maintenance Ser...</td>\n",
       "      <td>Uninstall.exe</td>\n",
       "      <td>C:\\Program Files (x86)\\Mozilla Maintenance Ser...</td>\n",
       "      <td>2019-07-23 14:06:31</td>\n",
       "      <td>2019-03-18 16:01:07</td>\n",
       "      <td>89698</td>\n",
       "    </tr>\n",
       "    <tr>\n",
       "      <th>2</th>\n",
       "      <td>C:\\Program Files (x86)\\Mozilla Maintenance Ser...</td>\n",
       "      <td>updater.ini</td>\n",
       "      <td>C:\\Program Files (x86)\\Mozilla Maintenance Ser...</td>\n",
       "      <td>2019-07-23 14:06:31</td>\n",
       "      <td>2019-02-25 16:48:28</td>\n",
       "      <td>1245</td>\n",
       "    </tr>\n",
       "    <tr>\n",
       "      <th>3</th>\n",
       "      <td>C:\\Program Files (x86)\\Mozilla Maintenance Ser...</td>\n",
       "      <td>maintenanceservice-1.log</td>\n",
       "      <td>C:\\Program Files (x86)\\Mozilla Maintenance Ser...</td>\n",
       "      <td>2019-07-16 14:14:30</td>\n",
       "      <td>2019-07-16 14:14:30</td>\n",
       "      <td>3777</td>\n",
       "    </tr>\n",
       "    <tr>\n",
       "      <th>4</th>\n",
       "      <td>C:\\Program Files (x86)\\Mozilla Maintenance Ser...</td>\n",
       "      <td>maintenanceservice-10.log</td>\n",
       "      <td>C:\\Program Files (x86)\\Mozilla Maintenance Ser...</td>\n",
       "      <td>2019-05-08 15:12:30</td>\n",
       "      <td>2019-05-08 15:12:30</td>\n",
       "      <td>3684</td>\n",
       "    </tr>\n",
       "  </tbody>\n",
       "</table>\n",
       "</div>"
      ],
      "text/plain": [
       "                                                Path  \\\n",
       "0  C:\\Program Files (x86)\\Mozilla Maintenance Ser...   \n",
       "1  C:\\Program Files (x86)\\Mozilla Maintenance Ser...   \n",
       "2  C:\\Program Files (x86)\\Mozilla Maintenance Ser...   \n",
       "3  C:\\Program Files (x86)\\Mozilla Maintenance Ser...   \n",
       "4  C:\\Program Files (x86)\\Mozilla Maintenance Ser...   \n",
       "\n",
       "                   File_Name  \\\n",
       "0     maintenanceservice.exe   \n",
       "1              Uninstall.exe   \n",
       "2                updater.ini   \n",
       "3   maintenanceservice-1.log   \n",
       "4  maintenanceservice-10.log   \n",
       "\n",
       "                                                Full     Last Accessed at  \\\n",
       "0  C:\\Program Files (x86)\\Mozilla Maintenance Ser...  2019-07-23 14:06:42   \n",
       "1  C:\\Program Files (x86)\\Mozilla Maintenance Ser...  2019-07-23 14:06:31   \n",
       "2  C:\\Program Files (x86)\\Mozilla Maintenance Ser...  2019-07-23 14:06:31   \n",
       "3  C:\\Program Files (x86)\\Mozilla Maintenance Ser...  2019-07-16 14:14:30   \n",
       "4  C:\\Program Files (x86)\\Mozilla Maintenance Ser...  2019-05-08 15:12:30   \n",
       "\n",
       "      Last Modified at  Size, in bytes  \n",
       "0  2019-07-11 16:56:51          238624  \n",
       "1  2019-03-18 16:01:07           89698  \n",
       "2  2019-02-25 16:48:28            1245  \n",
       "3  2019-07-16 14:14:30            3777  \n",
       "4  2019-05-08 15:12:30            3684  "
      ]
     },
     "execution_count": 121,
     "metadata": {},
     "output_type": "execute_result"
    }
   ],
   "source": [
    "df.head()"
=======
>>>>>>> Stashed changes
   ]
  },
  {
   "cell_type": "code",
<<<<<<< Updated upstream
   "execution_count": 49,
   "metadata": {},
   "outputs": [],
   "source": [
    "import os\n",
    "path = r'C:\\Program Files (x86)\\Mozilla Maintenance Service\\logs'\n",
    "# folder = os.fsencode(path)\n",
    "filenames = []\n",
    "for file in os.listdir(path):\n",
    "    filename = os.path.abspath(file) #os.path.dirname(__file__)   os.fsdecode(file)\n",
    "#     if filename.endswith( ('.jpeg', '.png', '.gif') ): # whatever file types you're using...\n",
    "    filenames.append(filename)\n",
    "# # df1 = pd.DataFrame()\n",
    "# d = df[[p, p.team, p.passing_att, p.passer_rating()] for p in game.players.passing()]\n",
    "# d = df1[[os.stat(x).st_size] for x in df['Full']]"
   ]
  },
  {
   "cell_type": "code",
   "execution_count": 50,
   "metadata": {},
   "outputs": [
    {
     "name": "stdout",
     "output_type": "stream",
     "text": [
      "C:\\Users\\us61565\\Desktop\\Forensics\\Working-with-folders\\maintenanceservice.log\n"
     ]
    }
   ],
   "source": [
    "print(filename)"
   ]
  },
  {
   "cell_type": "code",
   "execution_count": null,
   "metadata": {},
   "outputs": [],
   "source": [
    "import os\n",
    "for root, dirs, files in os.walk(\"C:\\Program Files (x86)\\Mozilla Maintenance Service\", topdown=False):\n",
    "   for name in files:\n",
    "      print(os.path.join(root, name))\n",
    "#    for name in dirs:\n",
    "#       print(os.path.join(root, name))"
   ]
  },
  {
   "cell_type": "code",
   "execution_count": 58,
   "metadata": {},
   "outputs": [
    {
     "name": "stdout",
     "output_type": "stream",
     "text": [
      "Found directory: C:\\Program Files (x86)\\Mozilla Maintenance Service\n",
      "Found directory: C:\\Program Files (x86)\\Mozilla Maintenance Service\\logs\n",
      "Found directory: C:\\Program Files (x86)\\Mozilla Maintenance Service\\update\n"
     ]
    }
   ],
   "source": [
    "rootDir = 'C:\\Program Files (x86)\\Mozilla Maintenance Service'\n",
    "# for dirName, subdirList, fileList in os.walk(rootDir):\n",
    "#     print('Found directory: %s' % dirName)\n",
    "#     for fname in fileList:\n",
    "#         print('\\t%s' % fname)\n",
    "#     # Remove the first entry in the list of sub-directories\n",
    "#     # if there are any sub-directories present\n",
    "#     if len(subdirList) > 0:\n",
    "#         del subdirList[0]\n",
    "for dirName, subdirList, fileList in os.walk(rootDir):\n",
    "     print('Found directory: %s' % dirName)\n",
    "#     for fname in fileList:\n",
    "#         print('\\t%s' % fname)"
   ]
  },
  {
   "cell_type": "code",
   "execution_count": null,
   "metadata": {},
   "outputs": [],
   "source": [
    "stat_dict"
   ]
  },
  {
   "cell_type": "code",
   "execution_count": 23,
   "metadata": {},
   "outputs": [
    {
     "data": {
      "text/plain": [
       "os.stat_result(st_mode=33206, st_ino=1407374884108507, st_dev=1178654328, st_nlink=1, st_uid=0, st_gid=0, st_size=3684, st_atime=1563592337, st_mtime=1563286996, st_ctime=1553780560)"
      ]
     },
     "execution_count": 23,
     "metadata": {},
     "output_type": "execute_result"
    }
   ],
   "source": [
    "statinfo1"
   ]
  },
  {
   "cell_type": "code",
   "execution_count": 24,
   "metadata": {},
   "outputs": [
    {
     "data": {
      "text/html": [
       "<div>\n",
       "<style scoped>\n",
       "    .dataframe tbody tr th:only-of-type {\n",
       "        vertical-align: middle;\n",
       "    }\n",
       "\n",
       "    .dataframe tbody tr th {\n",
       "        vertical-align: top;\n",
       "    }\n",
       "\n",
       "    .dataframe thead th {\n",
       "        text-align: right;\n",
       "    }\n",
       "</style>\n",
       "<table border=\"1\" class=\"dataframe\">\n",
       "  <thead>\n",
       "    <tr style=\"text-align: right;\">\n",
       "      <th></th>\n",
       "      <th>File_Name</th>\n",
       "      <th>Parent</th>\n",
       "      <th>Created</th>\n",
       "    </tr>\n",
       "  </thead>\n",
       "  <tbody>\n",
       "    <tr>\n",
       "      <th>0</th>\n",
       "      <td>maintenanceservice.exe</td>\n",
       "      <td>C:\\Program Files (x86)\\Mozilla Maintenance Ser...</td>\n",
       "      <td>Mon Mar 18 12:01:07 2019</td>\n",
       "    </tr>\n",
       "    <tr>\n",
       "      <th>1</th>\n",
       "      <td>Uninstall.exe</td>\n",
       "      <td>C:\\Program Files (x86)\\Mozilla Maintenance Ser...</td>\n",
       "      <td>Mon Mar 18 12:01:07 2019</td>\n",
       "    </tr>\n",
       "    <tr>\n",
       "      <th>2</th>\n",
       "      <td>updater.ini</td>\n",
       "      <td>C:\\Program Files (x86)\\Mozilla Maintenance Ser...</td>\n",
       "      <td>Mon Mar 18 12:01:07 2019</td>\n",
       "    </tr>\n",
       "    <tr>\n",
       "      <th>3</th>\n",
       "      <td>maintenanceservice-1.log</td>\n",
       "      <td>C:\\Program Files (x86)\\Mozilla Maintenance Ser...</td>\n",
       "      <td>Thu Mar 28 09:42:40 2019</td>\n",
       "    </tr>\n",
       "    <tr>\n",
       "      <th>4</th>\n",
       "      <td>maintenanceservice-10.log</td>\n",
       "      <td>C:\\Program Files (x86)\\Mozilla Maintenance Ser...</td>\n",
       "      <td>Thu Mar 28 09:42:40 2019</td>\n",
       "    </tr>\n",
       "  </tbody>\n",
       "</table>\n",
       "</div>"
      ],
      "text/plain": [
       "                   File_Name  \\\n",
       "0     maintenanceservice.exe   \n",
       "1              Uninstall.exe   \n",
       "2                updater.ini   \n",
       "3   maintenanceservice-1.log   \n",
       "4  maintenanceservice-10.log   \n",
       "\n",
       "                                              Parent                   Created  \n",
       "0  C:\\Program Files (x86)\\Mozilla Maintenance Ser...  Mon Mar 18 12:01:07 2019  \n",
       "1  C:\\Program Files (x86)\\Mozilla Maintenance Ser...  Mon Mar 18 12:01:07 2019  \n",
       "2  C:\\Program Files (x86)\\Mozilla Maintenance Ser...  Mon Mar 18 12:01:07 2019  \n",
       "3  C:\\Program Files (x86)\\Mozilla Maintenance Ser...  Thu Mar 28 09:42:40 2019  \n",
       "4  C:\\Program Files (x86)\\Mozilla Maintenance Ser...  Thu Mar 28 09:42:40 2019  "
      ]
     },
     "execution_count": 24,
     "metadata": {},
     "output_type": "execute_result"
    }
   ],
   "source": [
    "df.head()"
   ]
  },
  {
   "cell_type": "code",
   "execution_count": null,
   "metadata": {},
   "outputs": [],
   "source": [
    "df.columns"
   ]
  },
  {
   "cell_type": "code",
   "execution_count": 19,
   "metadata": {},
   "outputs": [],
   "source": [
    "# df['Full'] = df[['Path','File_Name']].apply(lambda x: ''.join(x), axis = 1)\n",
    "df['Full'] = df.Path.astype(str).str.cat(df.File_Name.astype(str), sep='\\\\')"
   ]
  },
  {
   "cell_type": "code",
   "execution_count": 20,
   "metadata": {},
   "outputs": [],
   "source": [
    "import pathlib"
   ]
  },
  {
   "cell_type": "code",
   "execution_count": 21,
   "metadata": {},
   "outputs": [
    {
     "name": "stdout",
     "output_type": "stream",
     "text": [
      "Last accessed at 1563885952.7485843\n",
      "Last accessed at 1563885952.7485843\n",
      "Last accessed at 1563885952.7485843\n",
      "Last accessed at 1563885952.7485843\n",
      "Last accessed at 1563885952.7485843\n",
      "Last accessed at 1563885952.7485843\n",
      "Last accessed at 1563885952.7485843\n",
      "Last accessed at 1563885952.7485843\n",
      "Last accessed at 1563885952.7485843\n",
      "Last accessed at 1563885952.7485843\n",
      "Last accessed at 1563885952.7485843\n",
      "Last accessed at 1563885952.7485843\n",
      "Last accessed at 1563885952.7485843\n",
      "Last accessed at 1563885952.7485843\n",
      "Last accessed at 1563885952.7485843\n"
     ]
    }
   ],
   "source": [
    " # every third element of the list, in our case the file location\n",
    "for x in df['Full']:\n",
    "    statinfo1 = os.stat(x)\n",
    "    print(\"Last accessed at {}\".format(statinfo.st_atime))"
   ]
  },
  {
   "cell_type": "code",
   "execution_count": 22,
   "metadata": {},
   "outputs": [
    {
     "data": {
      "text/html": [
       "<div>\n",
       "<style scoped>\n",
       "    .dataframe tbody tr th:only-of-type {\n",
       "        vertical-align: middle;\n",
       "    }\n",
       "\n",
       "    .dataframe tbody tr th {\n",
       "        vertical-align: top;\n",
       "    }\n",
       "\n",
       "    .dataframe thead th {\n",
       "        text-align: right;\n",
       "    }\n",
       "</style>\n",
       "<table border=\"1\" class=\"dataframe\">\n",
       "  <thead>\n",
       "    <tr style=\"text-align: right;\">\n",
       "      <th></th>\n",
       "      <th>File_Name</th>\n",
       "      <th>Parent</th>\n",
       "      <th>Created</th>\n",
       "    </tr>\n",
       "  </thead>\n",
       "  <tbody>\n",
       "    <tr>\n",
       "      <th>0</th>\n",
       "      <td>maintenanceservice.exe</td>\n",
       "      <td>C:\\Program Files (x86)\\Mozilla Maintenance Ser...</td>\n",
       "      <td>Mon Mar 18 12:01:07 2019</td>\n",
       "    </tr>\n",
       "    <tr>\n",
       "      <th>1</th>\n",
       "      <td>Uninstall.exe</td>\n",
       "      <td>C:\\Program Files (x86)\\Mozilla Maintenance Ser...</td>\n",
       "      <td>Mon Mar 18 12:01:07 2019</td>\n",
       "    </tr>\n",
       "    <tr>\n",
       "      <th>2</th>\n",
       "      <td>updater.ini</td>\n",
       "      <td>C:\\Program Files (x86)\\Mozilla Maintenance Ser...</td>\n",
       "      <td>Mon Mar 18 12:01:07 2019</td>\n",
       "    </tr>\n",
       "    <tr>\n",
       "      <th>3</th>\n",
       "      <td>maintenanceservice-1.log</td>\n",
       "      <td>C:\\Program Files (x86)\\Mozilla Maintenance Ser...</td>\n",
       "      <td>Thu Mar 28 09:42:40 2019</td>\n",
       "    </tr>\n",
       "    <tr>\n",
       "      <th>4</th>\n",
       "      <td>maintenanceservice-10.log</td>\n",
       "      <td>C:\\Program Files (x86)\\Mozilla Maintenance Ser...</td>\n",
       "      <td>Thu Mar 28 09:42:40 2019</td>\n",
       "    </tr>\n",
       "  </tbody>\n",
       "</table>\n",
       "</div>"
      ],
      "text/plain": [
       "                   File_Name  \\\n",
       "0     maintenanceservice.exe   \n",
       "1              Uninstall.exe   \n",
       "2                updater.ini   \n",
       "3   maintenanceservice-1.log   \n",
       "4  maintenanceservice-10.log   \n",
       "\n",
       "                                              Parent                   Created  \n",
       "0  C:\\Program Files (x86)\\Mozilla Maintenance Ser...  Mon Mar 18 12:01:07 2019  \n",
       "1  C:\\Program Files (x86)\\Mozilla Maintenance Ser...  Mon Mar 18 12:01:07 2019  \n",
       "2  C:\\Program Files (x86)\\Mozilla Maintenance Ser...  Mon Mar 18 12:01:07 2019  \n",
       "3  C:\\Program Files (x86)\\Mozilla Maintenance Ser...  Thu Mar 28 09:42:40 2019  \n",
       "4  C:\\Program Files (x86)\\Mozilla Maintenance Ser...  Thu Mar 28 09:42:40 2019  "
      ]
     },
     "execution_count": 22,
     "metadata": {},
     "output_type": "execute_result"
    }
   ],
   "source": [
    "# works but let's keep aside for now\n",
    "import pandas as pd\n",
    "from pathlib import Path\n",
    "import time\n",
    "\n",
    "p = Path(\"C:\\Program Files (x86)\\Mozilla Maintenance Service\")\n",
    "all_files = []\n",
    "for i in p.rglob('*.*'):\n",
    "    all_files.append((i.name, i.parent, time.ctime(i.stat().st_ctime)))\n",
    "\n",
    "columns = [\"File_Name\", \"Parent\", \"Created\"]\n",
    "df = pd.DataFrame.from_records(all_files, columns=columns)\n",
    "\n",
    "df.head()"
=======
   "execution_count": null,
   "metadata": {},
   "outputs": [],
   "source": [
    "# when it was created, last modified, last read"
>>>>>>> Stashed changes
   ]
  }
 ],
 "metadata": {
  "kernelspec": {
   "display_name": "Python 3",
   "language": "python",
   "name": "python3"
  },
  "language_info": {
   "codemirror_mode": {
    "name": "ipython",
    "version": 3
   },
   "file_extension": ".py",
   "mimetype": "text/x-python",
   "name": "python",
   "nbconvert_exporter": "python",
   "pygments_lexer": "ipython3",
   "version": "3.7.1"
  }
 },
 "nbformat": 4,
 "nbformat_minor": 2
}
