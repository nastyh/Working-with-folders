{
 "cells": [
  {
   "cell_type": "code",
   "execution_count": null,
   "metadata": {},
   "outputs": [],
   "source": [
    "import os"
   ]
  },
  {
   "cell_type": "code",
   "execution_count": 11,
   "metadata": {},
   "outputs": [
    {
     "name": "stdout",
     "output_type": "stream",
     "text": [
      "C:/Program Files (x86)/RSA SecurID Token Common\\APACHE_LICENSE.txt\n",
      "C:/Program Files (x86)/RSA SecurID Token Common\\log4cxx.dll\n",
      "C:/Program Files (x86)/RSA SecurID Token Common\\QtCore4.dll\n",
      "C:/Program Files (x86)/RSA SecurID Token Common\\QtGui4.dll\n",
      "C:/Program Files (x86)/RSA SecurID Token Common\\RegisterRtpDll.dll\n",
      "C:/Program Files (x86)/RSA SecurID Token Common\\RSAClientLogger.dll\n"
     ]
    }
   ],
   "source": [
    "def pywalker(path):\n",
    "    for root, dirs, files in os.walk(path):\n",
    "        for file_ in files:\n",
    "            print( os.path.join(root, file_) )\n",
    " \n",
    "if __name__ == '__main__':\n",
    "    pywalker('C:/Program Files (x86)/RSA SecurID Token Common')"
   ]
  }
 ],
 "metadata": {
  "kernelspec": {
   "display_name": "Python 3",
   "language": "python",
   "name": "python3"
  },
  "language_info": {
   "codemirror_mode": {
    "name": "ipython",
    "version": 3
   },
   "file_extension": ".py",
   "mimetype": "text/x-python",
   "name": "python",
   "nbconvert_exporter": "python",
   "pygments_lexer": "ipython3",
   "version": "3.7.1"
  }
 },
 "nbformat": 4,
 "nbformat_minor": 2
}
